{
 "cells": [
  {
   "cell_type": "markdown",
   "id": "fe12c203-e6a6-452c-a655-afb8a03a4ff5",
   "metadata": {},
   "source": [
    "# End of week 1 exercise\n",
    "\n",
    "To demonstrate your familiarity with OpenAI API, and also Ollama, build a tool that takes a technical question,  \n",
    "and responds with an explanation. This is a tool that you will be able to use yourself during the course!"
   ]
  },
  {
   "cell_type": "code",
   "execution_count": 1,
   "id": "c1070317-3ed9-4659-abe3-828943230e03",
   "metadata": {},
   "outputs": [],
   "source": [
    "# imports\n",
    "from dotenv import load_dotenv\n",
    "from IPython.display import Markdown, display, update_display\n",
    "from openai import OpenAI\n",
    "import ollama"
   ]
  },
  {
   "cell_type": "code",
   "execution_count": 2,
   "id": "4a456906-915a-4bfd-bb9d-57e505c5093f",
   "metadata": {},
   "outputs": [],
   "source": [
    "# constants\n",
    "\n",
    "MODEL_GPT = 'gpt-4o-mini'\n",
    "MODEL_LLAMA = 'llama3.2'"
   ]
  },
  {
   "cell_type": "code",
   "execution_count": 3,
   "id": "a8d7923c-5f28-4c30-8556-342d7c8497c1",
   "metadata": {},
   "outputs": [],
   "source": [
    "# set up environment\n",
    "\n",
    "load_dotenv()\n",
    "openai = OpenAI()"
   ]
  },
  {
   "cell_type": "code",
   "execution_count": 4,
   "id": "3f0d0137-52b0-47a8-81a8-11a90a010798",
   "metadata": {},
   "outputs": [],
   "source": [
    "# here is the question; type over this to ask something new\n",
    "\n",
    "question = \"\"\"\n",
    "Please explain what this code does and why:\n",
    "yield from {book.get(\"author\") for book in books if book.get(\"author\")}\n",
    "\"\"\""
   ]
  },
  {
   "cell_type": "code",
   "execution_count": 6,
   "id": "c151b747-a423-4277-a50f-b93afc16e3a3",
   "metadata": {},
   "outputs": [],
   "source": [
    "# prompts\n",
    "\n",
    "system_prompt = \"You are a helpful technical tutor who answers questions about python code, software engineering, data science and LLMs\"\n",
    "user_prompt = \"Please give a detailed explanation to the following question: \" + question"
   ]
  },
  {
   "cell_type": "code",
   "execution_count": 7,
   "id": "f1c4136d-5e9e-4adc-8693-7976c511f377",
   "metadata": {},
   "outputs": [],
   "source": [
    "# messages\n",
    "\n",
    "messages = [\n",
    "    {\"role\": \"system\", \"content\": system_prompt},\n",
    "    {\"role\": \"user\", \"content\": user_prompt}\n",
    "]"
   ]
  },
  {
   "cell_type": "code",
   "execution_count": 8,
   "id": "60ce7000-a4a5-4cce-a261-e75ef45063b4",
   "metadata": {},
   "outputs": [
    {
     "data": {
      "text/markdown": [
       "The code snippet you've provided utilizes a combination of Python's `yield` statement and set comprehension to generate a sequence of results. Let's break it down step by step.\n",
       "\n",
       "### Explanation of the Components\n",
       "1. **`yield from`**: \n",
       "   - The `yield` statement is used in generator functions to yield a value. When used with `from`, it allows you to yield all values from an iterable. In this context, it means that the generator will produce the values yielded from the iterable that follows `from`.\n",
       "\n",
       "2. **Set Comprehension**:\n",
       "   - The expression `{book.get(\"author\") for book in books if book.get(\"author\")}` is a set comprehension. This syntax iterates over the `books` collection, retrieves the `\"author\"` for each `book`, and constructs a set.\n",
       "   - The `if book.get(\"author\")` part filters out any books where the \"author\" key does not exist or has a value that evaluates to false (e.g., `None`).\n",
       "\n",
       "### Breakdown of the Set Comprehension\n",
       "- **`for book in books`**: This loops through each `book` in the iterable `books`.\n",
       "- **`book.get(\"author\")`**: This method call tries to retrieve the value associated with the key `\"author\"` from the `book` dictionary. If the key does not exist, it returns `None`.\n",
       "- **`if book.get(\"author\")`**: This condition ensures that only those books that have a valid value for `\"author\"` will be included in the set.\n",
       "\n",
       "### Overall Functionality\n",
       "Putting all of this together:\n",
       "- The code defines a generator that yields each unique author from a collection of books.\n",
       "- It will skip any books where the author is missing or explicitly set to a falsy value.\n",
       "\n",
       "### Example\n",
       "Let’s clarify with an example:\n",
       "\n",
       "Imagine you have the following data structure for `books`:\n",
       "\n",
       "python\n",
       "books = [\n",
       "    {\"title\": \"Book One\", \"author\": \"Author A\"},\n",
       "    {\"title\": \"Book Two\", \"author\": \"Author B\"},\n",
       "    {\"title\": \"Book Three\"},  # No author key\n",
       "    {\"title\": \"Book Four\", \"author\": None},  # Explicitly no author\n",
       "    {\"title\": \"Book Five\", \"author\": \"Author A\"},\n",
       "]\n",
       "\n",
       "\n",
       "Using the provided code:\n",
       "\n",
       "python\n",
       "def get_unique_authors(books):\n",
       "    yield from {book.get(\"author\") for book in books if book.get(\"author\")}\n",
       "\n",
       "\n",
       "If you call this generator function:\n",
       "\n",
       "python\n",
       "for author in get_unique_authors(books):\n",
       "    print(author)\n",
       "\n",
       "\n",
       "The output would be:\n",
       "\n",
       "Author A\n",
       "Author B\n",
       "\n",
       "\n",
       "Notice that \"Author A\" appears only once in the output because a set (like the one generated by the comprehension) does not allow for duplicates.\n",
       "\n",
       "### Why Use This Code?\n",
       "This approach is typically utilized to collect unique values efficiently:\n",
       "- **Efficiency**: Using a set ensures that only unique authors are collected.\n",
       "- **Clarity**: The use of a comprehension makes the code concise and easy to understand.\n",
       "- **Lazy Evaluation**: The use of `yield from` allows this function to be called in a way that can handle potentially large datasets without loading everything into memory at once.\n",
       "\n",
       "This pattern is especially useful in data processing or API response handling where unique entries need to be filtered from a larger collection."
      ],
      "text/plain": [
       "<IPython.core.display.Markdown object>"
      ]
     },
     "metadata": {},
     "output_type": "display_data"
    }
   ],
   "source": [
    "# Get gpt-4o-mini to answer, with streaming\n",
    "\n",
    "stream = openai.chat.completions.create(model=MODEL_GPT, messages=messages,stream=True)\n",
    "    \n",
    "response = \"\"\n",
    "display_handle = display(Markdown(\"\"), display_id=True)\n",
    "for chunk in stream:\n",
    "    response += chunk.choices[0].delta.content or ''\n",
    "    response = response.replace(\"```\",\"\").replace(\"markdown\", \"\")\n",
    "    update_display(Markdown(response), display_id=display_handle.display_id)"
   ]
  },
  {
   "cell_type": "code",
   "execution_count": 9,
   "id": "8f7c8ea8-4082-4ad0-8751-3301adcf6538",
   "metadata": {},
   "outputs": [
    {
     "data": {
      "text/markdown": [
       "**Code Breakdown**\n",
       "\n",
       "This line of code is written in Python and utilizes several advanced features, including list comprehensions, dictionary access, and the `yield from` statement.\n",
       "\n",
       "Here's a breakdown of what each part does:\n",
       "\n",
       "1. `{book.get(\"author\") for book in books if book.get(\"author\")}`:\n",
       "   - This is an iterable expression that uses a **list comprehension**.\n",
       "     - The `(for book in books)` part specifies that we want to iterate over each `book` object in the collection `books`.\n",
       "     - The `(if book.get(\"author\"))` part filters out any `book` objects where `\"author\"` is not present as a key in the dictionary.\n",
       "\n",
       "2. `yield from {...}`:\n",
       "   - This is an expression that uses **yields from**, which was introduced in Python 3.3.\n",
       "     - When used with an iterable expression, yields from takes the values produced by the inner iterable and produces them one at a time when called next() on its own object.\n",
       "\n",
       "**What the Code Does**\n",
       "\n",
       "When we put these two parts together, this line of code effectively flattens a collection of dictionaries (each dictionary representing a book) into a list-like structure. Each value in the list will be an author name.\n",
       "\n",
       "Here's how it works:\n",
       "\n",
       "- It starts by iterating over each `book` object in `books`.\n",
       "- For each `book`, it tries to get the `\"author\"` key from the dictionary.\n",
       "- If that key is present, it includes the corresponding author name in the output. However, if `\"author\"` is not found, this entire iteration for a given book is skipped.\n",
       "\n",
       "**Why We Use `yield from`**\n",
       "\n",
       "In Python 3.3 and later, we can use **generators**, which are special types of functions that remember their state between each call to next(). This allows us to avoid creating intermediate lists when working with large datasets.\n",
       "\n",
       "However, there's a crucial difference here: in our code, the inner iterable expression `{book.get(\"author\") for book in books if book.get(\"author\")}` itself produces an iterator, not a list. So, we use `yield from` to delegate to this inner iterator, allowing us to avoid creating a new intermediate list.\n",
       "\n",
       "By doing so, we can still take advantage of the benefits of using a generator (i.e., more memory-efficient and potentially faster for large datasets) without having to manually manage the state or iterate over each value in a list."
      ],
      "text/plain": [
       "<IPython.core.display.Markdown object>"
      ]
     },
     "metadata": {},
     "output_type": "display_data"
    }
   ],
   "source": [
    "# Get Llama 3.2 to answer\n",
    "response = ollama.chat(model=MODEL_LLAMA, messages=messages)\n",
    "reply = response['message']['content']\n",
    "display(Markdown(reply))"
   ]
  },
  {
   "cell_type": "code",
   "execution_count": null,
   "id": "6924b720-829f-48a1-acb7-e5d6256edd95",
   "metadata": {},
   "outputs": [],
   "source": []
  }
 ],
 "metadata": {
  "kernelspec": {
   "display_name": "Python 3 (ipykernel)",
   "language": "python",
   "name": "python3"
  },
  "language_info": {
   "codemirror_mode": {
    "name": "ipython",
    "version": 3
   },
   "file_extension": ".py",
   "mimetype": "text/x-python",
   "name": "python",
   "nbconvert_exporter": "python",
   "pygments_lexer": "ipython3",
   "version": "3.11.13"
  }
 },
 "nbformat": 4,
 "nbformat_minor": 5
}
